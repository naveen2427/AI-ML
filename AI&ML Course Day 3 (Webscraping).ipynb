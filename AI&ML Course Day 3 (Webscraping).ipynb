{
 "cells": [
  {
   "cell_type": "code",
   "execution_count": 2,
   "id": "6ab94a1a-94ec-4c20-8e0c-a0194bb53fa7",
   "metadata": {},
   "outputs": [
    {
     "name": "stdout",
     "output_type": "stream",
     "text": [
      "Requirement already satisfied: requests in c:\\users\\windows\\anaconda3\\lib\\site-packages (2.32.3)\n",
      "Requirement already satisfied: charset-normalizer<4,>=2 in c:\\users\\windows\\anaconda3\\lib\\site-packages (from requests) (2.0.4)\n",
      "Requirement already satisfied: idna<4,>=2.5 in c:\\users\\windows\\anaconda3\\lib\\site-packages (from requests) (3.4)\n",
      "Requirement already satisfied: urllib3<3,>=1.21.1 in c:\\users\\windows\\anaconda3\\lib\\site-packages (from requests) (2.0.7)\n",
      "Requirement already satisfied: certifi>=2017.4.17 in c:\\users\\windows\\anaconda3\\lib\\site-packages (from requests) (2025.6.15)\n",
      "Note: you may need to restart the kernel to use updated packages.\n"
     ]
    }
   ],
   "source": [
    "pip install requests"
   ]
  },
  {
   "cell_type": "code",
   "execution_count": 6,
   "id": "33765657-e043-46bc-9dae-1f8f8a91e572",
   "metadata": {},
   "outputs": [
    {
     "name": "stdout",
     "output_type": "stream",
     "text": [
      "Collecting bs4\n",
      "  Downloading bs4-0.0.2-py2.py3-none-any.whl.metadata (411 bytes)\n",
      "Requirement already satisfied: beautifulsoup4 in c:\\users\\windows\\anaconda3\\lib\\site-packages (from bs4) (4.12.2)\n",
      "Requirement already satisfied: soupsieve>1.2 in c:\\users\\windows\\anaconda3\\lib\\site-packages (from beautifulsoup4->bs4) (2.5)\n",
      "Downloading bs4-0.0.2-py2.py3-none-any.whl (1.2 kB)\n",
      "Installing collected packages: bs4\n",
      "Successfully installed bs4-0.0.2\n",
      "Note: you may need to restart the kernel to use updated packages.\n"
     ]
    }
   ],
   "source": [
    "pip install bs4"
   ]
  },
  {
   "cell_type": "code",
   "execution_count": 8,
   "id": "7de05eb6-0460-4bd3-be30-a6c19973be25",
   "metadata": {},
   "outputs": [],
   "source": [
    "import requests\n",
    "from bs4 import BeautifulSoup\n",
    "import pandas as pd\n",
    "import numpy as np"
   ]
  },
  {
   "cell_type": "code",
   "execution_count": 26,
   "id": "58bbc2c9-4080-44ba-987e-06dd26f942c0",
   "metadata": {},
   "outputs": [],
   "source": [
    "url = \"https://books.toscrape.com\"\n",
    "response = requests.get(url)\n",
    "soup = BeautifulSoup(response.text, \"html.parser\")"
   ]
  },
  {
   "cell_type": "code",
   "execution_count": 28,
   "id": "0ec056de-e644-4149-86da-8fce978d1c4f",
   "metadata": {},
   "outputs": [],
   "source": [
    "books = soup.find_all('article', class_='product_pod')"
   ]
  },
  {
   "cell_type": "code",
   "execution_count": 45,
   "id": "42f0f283-8840-4260-a4b8-e3b43212d4b9",
   "metadata": {},
   "outputs": [
    {
     "name": "stdout",
     "output_type": "stream",
     "text": [
      "Title: A Light in the Attic\n",
      "Price: Â£51.77\n",
      "\n",
      "Title: Tipping the Velvet\n",
      "Price: Â£53.74\n",
      "\n",
      "Title: Soumission\n",
      "Price: Â£50.10\n",
      "\n",
      "Title: Sharp Objects\n",
      "Price: Â£47.82\n",
      "\n",
      "Title: Sapiens: A Brief History of Humankind\n",
      "Price: Â£54.23\n",
      "\n",
      "Title: The Requiem Red\n",
      "Price: Â£22.65\n",
      "\n",
      "Title: The Dirty Little Secrets of Getting Your Dream Job\n",
      "Price: Â£33.34\n",
      "\n",
      "Title: The Coming Woman: A Novel Based on the Life of the Infamous Feminist, Victoria Woodhull\n",
      "Price: Â£17.93\n",
      "\n",
      "Title: The Boys in the Boat: Nine Americans and Their Epic Quest for Gold at the 1936 Berlin Olympics\n",
      "Price: Â£22.60\n",
      "\n",
      "Title: The Black Maria\n",
      "Price: Â£52.15\n",
      "\n",
      "Title: Starving Hearts (Triangular Trade Trilogy, #1)\n",
      "Price: Â£13.99\n",
      "\n",
      "Title: Shakespeare's Sonnets\n",
      "Price: Â£20.66\n",
      "\n",
      "Title: Set Me Free\n",
      "Price: Â£17.46\n",
      "\n",
      "Title: Scott Pilgrim's Precious Little Life (Scott Pilgrim #1)\n",
      "Price: Â£52.29\n",
      "\n",
      "Title: Rip it Up and Start Again\n",
      "Price: Â£35.02\n",
      "\n",
      "Title: Our Band Could Be Your Life: Scenes from the American Indie Underground, 1981-1991\n",
      "Price: Â£57.25\n",
      "\n",
      "Title: Olio\n",
      "Price: Â£23.88\n",
      "\n",
      "Title: Mesaerion: The Best Science Fiction Stories 1800-1849\n",
      "Price: Â£37.59\n",
      "\n",
      "Title: Libertarianism for Beginners\n",
      "Price: Â£51.33\n",
      "\n",
      "Title: It's Only the Himalayas\n",
      "Price: Â£45.17\n",
      "\n"
     ]
    }
   ],
   "source": [
    "book_data = []\n",
    "for book in books:\n",
    "    title = book.h3.a['title']\n",
    "    price = book.find('p', class_='price_color').text\n",
    "    print(f\"Title: {title}\\nPrice: {price}\\n\")\n",
    "    book_data.append({\"Title\":title, \"Price\":price})"
   ]
  },
  {
   "cell_type": "code",
   "execution_count": 47,
   "id": "61874037-b6d7-4bc4-87d1-1d76ccb1c08f",
   "metadata": {},
   "outputs": [],
   "source": [
    "df = pd.DataFrame(book_data)"
   ]
  },
  {
   "cell_type": "code",
   "execution_count": 51,
   "id": "1157b4d4-5a94-4530-bd6f-b19fffa5df0c",
   "metadata": {},
   "outputs": [
    {
     "name": "stdout",
     "output_type": "stream",
     "text": [
      "                                   Title    Price\n",
      "0                   A Light in the Attic  Â£51.77\n",
      "1                     Tipping the Velvet  Â£53.74\n",
      "2                             Soumission  Â£50.10\n",
      "3                          Sharp Objects  Â£47.82\n",
      "4  Sapiens: A Brief History of Humankind  Â£54.23\n"
     ]
    }
   ],
   "source": [
    "print(df.head())"
   ]
  },
  {
   "cell_type": "code",
   "execution_count": null,
   "id": "4ee7f436-2e09-426a-9c6d-c395f515755d",
   "metadata": {},
   "outputs": [],
   "source": []
  }
 ],
 "metadata": {
  "kernelspec": {
   "display_name": "Python 3 (ipykernel)",
   "language": "python",
   "name": "python3"
  },
  "language_info": {
   "codemirror_mode": {
    "name": "ipython",
    "version": 3
   },
   "file_extension": ".py",
   "mimetype": "text/x-python",
   "name": "python",
   "nbconvert_exporter": "python",
   "pygments_lexer": "ipython3",
   "version": "3.11.7"
  }
 },
 "nbformat": 4,
 "nbformat_minor": 5
}
